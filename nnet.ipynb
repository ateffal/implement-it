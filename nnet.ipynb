{
 "cells": [
  {
   "attachments": {},
   "cell_type": "markdown",
   "metadata": {},
   "source": [
    "## implement a neural net"
   ]
  },
  {
   "cell_type": "code",
   "execution_count": 69,
   "metadata": {},
   "outputs": [],
   "source": [
    "import numpy as np\n",
    "import numpy.random as rd\n",
    "from scipy.special import expit, logit"
   ]
  },
  {
   "cell_type": "code",
   "execution_count": 73,
   "metadata": {},
   "outputs": [],
   "source": [
    "# this is a simple neural network with one hidden layer with n neurones\n",
    "class Simple_nnet:\n",
    "\n",
    "    def __init__(self, input_shape , hidden_layer_shape = 16, output_shape = 2) :\n",
    "        self.input_shape = input_shape\n",
    "        self.hidden_layer_shape = hidden_layer_shape\n",
    "        self.output_shape = output_shape\n",
    "\n",
    "        # init wheights and bias for hidden layer with random numbers \n",
    "        self.h_weights = rd.rand(hidden_layer_shape, input_shape)\n",
    "        self.h_bias = rd.rand(hidden_layer_shape, 1)\n",
    "\n",
    "        # init wheights and bias for output layer with random numbers \n",
    "        self.o_weights = rd.rand(hidden_layer_shape, input_shape)\n",
    "        self.o_bias = rd.rand(hidden_layer_shape, 1)\n",
    "\n",
    "    def process_input(self, input):\n",
    "        # reshape input\n",
    "        input = np.reshape(input, (input.shape[0], 1))\n",
    "        # calculate hidden layer neurones\n",
    "        a1 = (self.h_weights @ input )+ self.h_bias\n",
    "        a1 = expit(a1) # apply sigmoid function\n",
    "\n",
    "        # calculate output layer\n",
    "        a2 = \n",
    "        # return a1 after applying sigmoid function\n",
    "        return \n",
    "\n",
    "    def __str__(self):\n",
    "        return str(self.input_shape) + \" --> \" + str(self.hidden_layer_shape) + \" --> \" + str(self.output_shape)\n",
    "\n"
   ]
  },
  {
   "cell_type": "code",
   "execution_count": 74,
   "metadata": {},
   "outputs": [],
   "source": [
    "nnet1 = Simple_nnet(4, 8)"
   ]
  },
  {
   "cell_type": "code",
   "execution_count": 75,
   "metadata": {},
   "outputs": [],
   "source": [
    "input1 = np.array([1,1,1,1])"
   ]
  },
  {
   "cell_type": "code",
   "execution_count": 76,
   "metadata": {},
   "outputs": [
    {
     "data": {
      "text/plain": [
       "array([[0.94651834],\n",
       "       [0.98152023],\n",
       "       [0.83726249],\n",
       "       [0.96379179],\n",
       "       [0.89274987],\n",
       "       [0.93493131],\n",
       "       [0.89132526],\n",
       "       [0.97023218]])"
      ]
     },
     "execution_count": 76,
     "metadata": {},
     "output_type": "execute_result"
    }
   ],
   "source": [
    "nnet1.process_input(input1)"
   ]
  },
  {
   "cell_type": "code",
   "execution_count": 72,
   "metadata": {},
   "outputs": [
    {
     "data": {
      "text/plain": [
       "array([[0.9660009 ],\n",
       "       [0.96336817],\n",
       "       [0.91678827],\n",
       "       [0.89746349],\n",
       "       [0.85750068],\n",
       "       [0.94202212],\n",
       "       [0.94120056],\n",
       "       [0.89968549]])"
      ]
     },
     "execution_count": 72,
     "metadata": {},
     "output_type": "execute_result"
    }
   ],
   "source": [
    "expit(a)"
   ]
  }
 ],
 "metadata": {
  "kernelspec": {
   "display_name": "Python 3",
   "language": "python",
   "name": "python3"
  },
  "language_info": {
   "codemirror_mode": {
    "name": "ipython",
    "version": 3
   },
   "file_extension": ".py",
   "mimetype": "text/x-python",
   "name": "python",
   "nbconvert_exporter": "python",
   "pygments_lexer": "ipython3",
   "version": "3.10.4"
  },
  "orig_nbformat": 4,
  "vscode": {
   "interpreter": {
    "hash": "3ad933181bd8a04b432d3370b9dc3b0662ad032c4dfaa4e4f1596c548f763858"
   }
  }
 },
 "nbformat": 4,
 "nbformat_minor": 2
}
